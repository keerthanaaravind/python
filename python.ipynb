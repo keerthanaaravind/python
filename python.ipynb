{
  "nbformat": 4,
  "nbformat_minor": 0,
  "metadata": {
    "colab": {
      "provenance": [],
      "authorship_tag": "ABX9TyMmk2SN5N/4rdQANPJWcD3l",
      "include_colab_link": true
    },
    "kernelspec": {
      "name": "python3",
      "display_name": "Python 3"
    },
    "language_info": {
      "name": "python"
    }
  },
  "cells": [
    {
      "cell_type": "markdown",
      "metadata": {
        "id": "view-in-github",
        "colab_type": "text"
      },
      "source": [
        "<a href=\"https://colab.research.google.com/github/keerthanaaravind/python/blob/main/python.ipynb\" target=\"_parent\"><img src=\"https://colab.research.google.com/assets/colab-badge.svg\" alt=\"Open In Colab\"/></a>"
      ]
    },
    {
      "cell_type": "code",
      "execution_count": null,
      "metadata": {
        "colab": {
          "base_uri": "https://localhost:8080/"
        },
        "id": "HZ2I6T4dJSd9",
        "outputId": "0aab9aa7-9af3-4eb1-b53e-b588ee02abde"
      },
      "outputs": [
        {
          "output_type": "stream",
          "name": "stdout",
          "text": [
            "hi\n"
          ]
        }
      ],
      "source": [
        "a=\"hi\"\n",
        "print(a)\n"
      ]
    },
    {
      "cell_type": "code",
      "source": [
        "def cal(x):\n",
        "  y=x+1\n",
        "  print(y)\n",
        "  return(\"my name is x\")"
      ],
      "metadata": {
        "id": "FiOvbkcQKRNj"
      },
      "execution_count": null,
      "outputs": []
    },
    {
      "cell_type": "code",
      "source": [
        "cal(6)"
      ],
      "metadata": {
        "colab": {
          "base_uri": "https://localhost:8080/",
          "height": 52
        },
        "id": "JhD5x48g_drX",
        "outputId": "cbb75638-c837-4735-aecb-ea153c71366b"
      },
      "execution_count": null,
      "outputs": [
        {
          "output_type": "stream",
          "name": "stdout",
          "text": [
            "7\n"
          ]
        },
        {
          "output_type": "execute_result",
          "data": {
            "text/plain": [
              "'my name is x'"
            ],
            "application/vnd.google.colaboratory.intrinsic+json": {
              "type": "string"
            }
          },
          "metadata": {},
          "execution_count": 2
        }
      ]
    },
    {
      "cell_type": "code",
      "source": [
        "cal"
      ],
      "metadata": {
        "colab": {
          "base_uri": "https://localhost:8080/"
        },
        "id": "Dt9IFrKV_lVN",
        "outputId": "cc11b8e8-8a1e-415d-82fd-154fb3f9c2c1"
      },
      "execution_count": null,
      "outputs": [
        {
          "output_type": "execute_result",
          "data": {
            "text/plain": [
              "<function __main__.cal(x)>"
            ]
          },
          "metadata": {},
          "execution_count": 3
        }
      ]
    },
    {
      "cell_type": "code",
      "source": [
        "def cal():\n",
        "  return(\"my name is x\")"
      ],
      "metadata": {
        "id": "w1nft0of_p7r"
      },
      "execution_count": null,
      "outputs": []
    },
    {
      "cell_type": "code",
      "source": [
        "cal()"
      ],
      "metadata": {
        "colab": {
          "base_uri": "https://localhost:8080/",
          "height": 35
        },
        "id": "rTwcZ9Ud_6od",
        "outputId": "f4fd8803-6d9c-4faa-e7e9-e1e47c09496b"
      },
      "execution_count": null,
      "outputs": [
        {
          "output_type": "execute_result",
          "data": {
            "text/plain": [
              "'my name is x'"
            ],
            "application/vnd.google.colaboratory.intrinsic+json": {
              "type": "string"
            }
          },
          "metadata": {},
          "execution_count": 5
        }
      ]
    },
    {
      "cell_type": "code",
      "source": [
        "\n",
        "class animal():\n",
        "\n",
        "  def anim():\n",
        "    return(\"they can drink water\")\n",
        "\n",
        "class dog(animal):\n",
        "  def d():\n",
        "    print(\"they eat bones\")\n",
        "\n",
        "class cow(animal):\n",
        "  def c():\n",
        "    print(\"they eat grass\")\n",
        "\n",
        "class rabbit():\n",
        "  def r():\n",
        "    print(\"they drink milk\")\n",
        "\n",
        "\n"
      ],
      "metadata": {
        "id": "26-5TRQCFtvz"
      },
      "execution_count": null,
      "outputs": []
    },
    {
      "cell_type": "code",
      "source": [
        "animal()"
      ],
      "metadata": {
        "colab": {
          "base_uri": "https://localhost:8080/"
        },
        "id": "LZL1FsuNHhLb",
        "outputId": "507a0878-6cda-42e0-ba39-a9552f326c41"
      },
      "execution_count": null,
      "outputs": [
        {
          "output_type": "execute_result",
          "data": {
            "text/plain": [
              "<__main__.animal at 0x7c88e2d65960>"
            ]
          },
          "metadata": {},
          "execution_count": 15
        }
      ]
    }
  ]
}